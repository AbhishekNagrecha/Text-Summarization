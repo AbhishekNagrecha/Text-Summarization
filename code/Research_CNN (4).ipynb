{
  "nbformat": 4,
  "nbformat_minor": 0,
  "metadata": {
    "colab": {
      "name": "Research_CNN.ipynb",
      "provenance": [],
      "collapsed_sections": []
    },
    "kernelspec": {
      "name": "python3",
      "display_name": "Python 3"
    },
    "accelerator": "GPU"
  },
  "cells": [
    {
      "cell_type": "code",
      "metadata": {
        "id": "vbUvb6Eogx6c",
        "colab_type": "code",
        "outputId": "71b2ac9d-604e-4110-8a0d-e43f912ceb17",
        "colab": {
          "base_uri": "https://localhost:8080/",
          "height": 121
        }
      },
      "source": [
        "from google.colab import drive\n",
        "drive.mount('/content/drive')"
      ],
      "execution_count": 1,
      "outputs": [
        {
          "output_type": "stream",
          "text": [
            "Go to this URL in a browser: https://accounts.google.com/o/oauth2/auth?client_id=947318989803-6bn6qk8qdgf4n4g3pfee6491hc0brc4i.apps.googleusercontent.com&redirect_uri=urn%3aietf%3awg%3aoauth%3a2.0%3aoob&response_type=code&scope=email%20https%3a%2f%2fwww.googleapis.com%2fauth%2fdocs.test%20https%3a%2f%2fwww.googleapis.com%2fauth%2fdrive%20https%3a%2f%2fwww.googleapis.com%2fauth%2fdrive.photos.readonly%20https%3a%2f%2fwww.googleapis.com%2fauth%2fpeopleapi.readonly\n",
            "\n",
            "Enter your authorization code:\n",
            "··········\n",
            "Mounted at /content/drive\n"
          ],
          "name": "stdout"
        }
      ]
    },
    {
      "cell_type": "code",
      "metadata": {
        "id": "cxLTNjqQfoRy",
        "colab_type": "code",
        "colab": {
          "base_uri": "https://localhost:8080/",
          "height": 34
        },
        "outputId": "f6f3e4d5-946d-4c84-d4c3-1d30664f5229"
      },
      "source": [
        "import numpy as np\n",
        "import pandas as pd\n",
        "import pickle\n",
        "from collections import defaultdict\n",
        "import re\n",
        "from bs4 import BeautifulSoup\n",
        "import sys\n",
        "import os\n",
        "os.environ['KERAS_BACKEND']='theano' # Why theano why not\n",
        "from keras.preprocessing.text import Tokenizer\n",
        "from keras.preprocessing.sequence import pad_sequences\n",
        "from keras.utils.np_utils import to_categorical\n",
        "from keras.layers import Embedding\n",
        "from keras.layers import Dense, Input, Flatten\n",
        "from keras.layers import Conv1D, MaxPooling1D, Embedding, Dropout, BatchNormalization\n",
        "from keras.models import Model\n",
        "from keras.callbacks import ModelCheckpoint\n",
        "from collections import Counter\n",
        "from sklearn.datasets import make_classification\n",
        "from sklearn import datasets, linear_model\n",
        "from sklearn.model_selection import train_test_split\n",
        "from matplotlib import pyplot as plt\n",
        "from keras.utils.vis_utils import plot_model\n",
        "plt.switch_backend('agg')"
      ],
      "execution_count": 2,
      "outputs": [
        {
          "output_type": "stream",
          "text": [
            "Using Theano backend.\n"
          ],
          "name": "stderr"
        }
      ]
    },
    {
      "cell_type": "code",
      "metadata": {
        "id": "DH-nmHT6gJaq",
        "colab_type": "code",
        "colab": {}
      },
      "source": [
        "length = 1000\n",
        "words = 20000\n",
        "dim = 100"
      ],
      "execution_count": 0,
      "outputs": []
    },
    {
      "cell_type": "code",
      "metadata": {
        "id": "6UMPmqPQggPz",
        "colab_type": "code",
        "outputId": "b1d64c9d-7e30-4252-a3c5-1fc456d3b35d",
        "colab": {
          "base_uri": "https://localhost:8080/",
          "height": 87
        }
      },
      "source": [
        "df = pd.read_excel('/content/drive/My Drive/dataset/mtsamples_v2_exel.xlsx')\n",
        "df = df.dropna()\n",
        "df = df.reset_index(drop=True)\n",
        "print('Input Shape ',df.shape)\n",
        "# print(df.columns)\n",
        "print('No. of Classes',len(set(df['medical_specialty'])))\n",
        "print(sorted(set(df['medical_specialty'])))\n",
        "# Set it to None to display all columns in the dataframe\n",
        "# pd.set_option('display.max_columns', None)\n",
        "# print(empDfObj)"
      ],
      "execution_count": 24,
      "outputs": [
        {
          "output_type": "stream",
          "text": [
            "Input Shape  (3898, 6)\n",
            "No. of Classes 39\n",
            "[' Allergy / Immunology', ' Bariatrics', ' Cardiovascular / Pulmonary', ' Chiropractic', ' Consult - History and Phy.', ' Cosmetic / Plastic Surgery', ' Dentistry', ' Dermatology', ' Diets and Nutritions', ' Discharge Summary', ' ENT - Otolaryngology', ' Emergency Room Reports', ' Endocrinology', ' Gastroenterology', ' General Medicine', ' Hematology - Oncology', ' Hospice - Palliative Care', ' IME-QME-Work Comp etc.', ' Lab Medicine - Pathology', ' Letters', ' Nephrology', ' Neurology', ' Neurosurgery', ' Obstetrics / Gynecology', ' Office Notes', ' Ophthalmology', ' Orthopedic', ' Pain Management', ' Pediatrics - Neonatal', ' Physical Medicine - Rehab', ' Podiatry', ' Psychiatry / Psychology', ' Radiology', ' Rheumatology', ' SOAP / Chart / Progress Notes', ' Sleep Medicine', ' Speech - Language', ' Surgery', ' Urology']\n"
          ],
          "name": "stdout"
        }
      ]
    },
    {
      "cell_type": "code",
      "metadata": {
        "id": "nMVqHr8ViNA8",
        "colab_type": "code",
        "outputId": "08c3ae3a-8cad-44bf-cbd0-c332c6c2163f",
        "colab": {
          "base_uri": "https://localhost:8080/",
          "height": 34
        }
      },
      "source": [
        "num=sorted(set(df['medical_specialty']))\n",
        "nid = dict((note, number) for number, note in enumerate(num))\n",
        "def fnid(i):\n",
        "    return nid[i]\n",
        "\n",
        "df['medical_specialty']=df['medical_specialty'].apply(fnid)\n",
        "print(sorted(set(df['medical_specialty'])))\n",
        "# print(df['medical_specialty'].shape)"
      ],
      "execution_count": 25,
      "outputs": [
        {
          "output_type": "stream",
          "text": [
            "[0, 1, 2, 3, 4, 5, 6, 7, 8, 9, 10, 11, 12, 13, 14, 15, 16, 17, 18, 19, 20, 21, 22, 23, 24, 25, 26, 27, 28, 29, 30, 31, 32, 33, 34, 35, 36, 37, 38]\n"
          ],
          "name": "stdout"
        }
      ]
    },
    {
      "cell_type": "code",
      "metadata": {
        "id": "3Qmek4OCiY2l",
        "colab_type": "code",
        "colab": {}
      },
      "source": [
        "texts = []\n",
        "labels = []\n",
        "def clean_str(string):\n",
        "    \n",
        "    string = re.sub(r\"\\\\\", \"\", string)\n",
        "    string = re.sub(r\"\\\"\", \"\", string)\n",
        "    string = re.sub(r\"\\'\", \"\", string)\n",
        "    \n",
        "    return string.strip().lower()\n",
        "\n",
        "for index in range(df.keywords.shape[0]):\n",
        "    text = BeautifulSoup(df.keywords[index])\n",
        "    texts.append(clean_str(str(text.get_text().encode())))\n",
        "\n",
        "for index in df['medical_specialty']:\n",
        "    labels.append(index)"
      ],
      "execution_count": 0,
      "outputs": []
    },
    {
      "cell_type": "code",
      "metadata": {
        "id": "Z_PdH8s2i1cq",
        "colab_type": "code",
        "outputId": "a00a4a65-27cc-47d1-ae0d-28a1aa714e95",
        "colab": {
          "base_uri": "https://localhost:8080/",
          "height": 34
        }
      },
      "source": [
        "token = Tokenizer(num_words=length)\n",
        "token.fit_on_texts(texts)\n",
        "seq = token.texts_to_sequences(texts)\n",
        "word_index = token.word_index\n",
        "print('No. tokens: ',len(word_index))"
      ],
      "execution_count": 27,
      "outputs": [
        {
          "output_type": "stream",
          "text": [
            "No. tokens:  5928\n"
          ],
          "name": "stdout"
        }
      ]
    },
    {
      "cell_type": "code",
      "metadata": {
        "id": "qjv23_ASi6HN",
        "colab_type": "code",
        "outputId": "50de9daf-fc6d-4ce4-a35f-a4438141b742",
        "colab": {
          "base_uri": "https://localhost:8080/",
          "height": 134
        }
      },
      "source": [
        "data = pad_sequences(seq, maxlen=length)\n",
        "print(\"Input: \", data.shape)\n",
        "labels = to_categorical(np.asarray(labels))\n",
        "indxs = np.arange(data.shape[0])\n",
        "np.random.shuffle(indxs)\n",
        "data = data[indxs]\n",
        "labels = labels[indxs]\n",
        "X_train, x_test, Y_train, y_test = train_test_split(data, labels, test_size=0.2, random_state=65)\n",
        "x_train, x_val, y_train, y_val = train_test_split(X_train, Y_train, test_size=0.2, random_state=69)\n",
        "print(\"Training samples: \", x_train.shape)\n",
        "print(\"Training labels: \", y_train.shape)\n",
        "print(\"Testing samples: \", x_test.shape)\n",
        "print(\"Testing labels: \", y_test.shape)\n",
        "print(\"Validation samples: \", x_val.shape)\n",
        "print(\"Validation labels: \", y_val.shape)"
      ],
      "execution_count": 28,
      "outputs": [
        {
          "output_type": "stream",
          "text": [
            "Input:  (3898, 1000)\n",
            "Training samples:  (2494, 1000)\n",
            "Training labels:  (2494, 39)\n",
            "Testing samples:  (780, 1000)\n",
            "Testing labels:  (780, 39)\n",
            "Validation samples:  (624, 1000)\n",
            "Validation labels:  (624, 39)\n"
          ],
          "name": "stdout"
        }
      ]
    },
    {
      "cell_type": "code",
      "metadata": {
        "id": "F8w1FsSzjARd",
        "colab_type": "code",
        "outputId": "70f43160-a24e-46ea-dfc8-9f2890762cc1",
        "colab": {
          "base_uri": "https://localhost:8080/",
          "height": 34
        }
      },
      "source": [
        "embeddings_index = {}\n",
        "f = open(\"/content/drive/My Drive/dataset/glove.6B.100d.txt\",encoding='utf8')\n",
        "for line in f:\n",
        "    values = line.split()\n",
        "    word = values[0]\n",
        "    coefs = np.asarray(values[1:], dtype='float32')\n",
        "    embeddings_index[word] = coefs\n",
        "f.close()\n",
        "print('Total %s word vectors in Glove 6B 100d.' % len(embeddings_index))"
      ],
      "execution_count": 30,
      "outputs": [
        {
          "output_type": "stream",
          "text": [
            "Total 400000 word vectors in Glove 6B 100d.\n"
          ],
          "name": "stdout"
        }
      ]
    },
    {
      "cell_type": "code",
      "metadata": {
        "id": "WCGP09IXpx7H",
        "colab_type": "code",
        "colab": {}
      },
      "source": [
        "embedding_matrix = np.random.random((len(word_index) + 1, dim))\n",
        "for word, i in word_index.items():\n",
        "    embedding_vector = embeddings_index.get(word)\n",
        "    if embedding_vector is not None:\n",
        "        # words not found in embedding index will be all-zeros.\n",
        "        embedding_matrix[i] = embedding_vector\n",
        "\n",
        "embedding_layer = Embedding(len(word_index) + 1,\n",
        "                            dim,weights=[embedding_matrix],\n",
        "                            input_length=length,trainable=True)"
      ],
      "execution_count": 0,
      "outputs": []
    },
    {
      "cell_type": "code",
      "metadata": {
        "id": "3lqW1yWyo3gy",
        "colab_type": "code",
        "colab": {}
      },
      "source": [
        "from keras import backend as K\n",
        "\n",
        "def recall_m(orignal, predicted):\n",
        "    true_positives = K.sum(K.round(K.clip(orignal * predicted, 0, 1)))\n",
        "    possible_positives = K.sum(K.round(K.clip(orignal, 0, 1)))\n",
        "    recall = true_positives / (possible_positives + K.epsilon())\n",
        "    return recall\n",
        "\n",
        "def precision_m(y_true, y_pred):\n",
        "    true_positives = K.sum(K.round(K.clip(y_true * y_pred, 0, 1)))\n",
        "    predicted_positives = K.sum(K.round(K.clip(y_pred, 0, 1)))\n",
        "    precision = true_positives / (predicted_positives + K.epsilon())\n",
        "    return precision\n",
        "\n",
        "def f1_m(y_true, y_pred):\n",
        "    precision = precision_m(y_true, y_pred)\n",
        "    recall = recall_m(y_true, y_pred)\n",
        "    return 2*((precision*recall)/(precision+recall+K.epsilon()))"
      ],
      "execution_count": 0,
      "outputs": []
    },
    {
      "cell_type": "code",
      "metadata": {
        "id": "EjblfdIyrTGT",
        "colab_type": "code",
        "outputId": "65c30c75-3f40-4142-b55e-757a8fb4d015",
        "colab": {
          "base_uri": "https://localhost:8080/",
          "height": 991
        }
      },
      "source": [
        "sequence_input = Input(shape=(length,), dtype='int32')\n",
        "\n",
        "input = embedding_layer(sequence_input)\n",
        "x = Conv1D(64, 5, activation='relu')(input)\n",
        "x = Conv1D(64, 5, activation='relu')(x)\n",
        "x = BatchNormalization()(x)\n",
        "x = MaxPooling1D(5)(x)\n",
        "x = Dropout(0.2)(x)\n",
        "\n",
        "x = Conv1D(128, 5, activation='relu')(x)\n",
        "x = Conv1D(128, 5, activation='relu')(x)\n",
        "x = BatchNormalization()(x)\n",
        "x = MaxPooling1D(5)(x)\n",
        "x = Dropout(0.2)(x)\n",
        "\n",
        "x = Conv1D(256, 5, activation='relu')(x)\n",
        "x = Conv1D(256, 5, activation='relu')(x)\n",
        "x = Conv1D(256, 5, activation='relu')(x)\n",
        "x = BatchNormalization()(x)\n",
        "x = MaxPooling1D(5)(x)\n",
        "x = Dropout(0.2)(x)\n",
        "\n",
        "x = Flatten()(x)\n",
        "\n",
        "x = Dropout(0.2)(x)\n",
        "x = Dense(128, activation='relu')(x)\n",
        "\n",
        "x = Dropout(0.2)(x)\n",
        "x = Dense(128, activation='relu')(x)\n",
        "\n",
        "# l_dense1 = Dense(128, activation='relu')(l_dense)\n",
        "preds = Dense(len(macronum), activation='softmax')(x)\n",
        "\n",
        "model = Model(sequence_input, preds)\n",
        "model.compile(loss='categorical_crossentropy',\n",
        "              optimizer='rmsprop',\n",
        "              metrics=['acc',f1_m,precision_m, recall_m])\n",
        "model.save('research_CNN.model')\n",
        "print(\"CNN\")\n",
        "model.summary()\n",
        "plot_model(model, to_file='model_plot.png', show_shapes=True, show_layer_names=True)\n",
        "cp=ModelCheckpoint('model_cnn.hdf5',monitor='val_acc',verbose=1,save_best_only=True)\n",
        "print(model.metrics_names)"
      ],
      "execution_count": 43,
      "outputs": [
        {
          "output_type": "stream",
          "text": [
            "CNN\n",
            "Model: \"model_2\"\n",
            "_________________________________________________________________\n",
            "Layer (type)                 Output Shape              Param #   \n",
            "=================================================================\n",
            "input_5 (InputLayer)         (None, 1000)              0         \n",
            "_________________________________________________________________\n",
            "embedding_2 (Embedding)      (None, 1000, 100)         592900    \n",
            "_________________________________________________________________\n",
            "conv1d_38 (Conv1D)           (None, 996, 64)           32064     \n",
            "_________________________________________________________________\n",
            "conv1d_39 (Conv1D)           (None, 992, 64)           20544     \n",
            "_________________________________________________________________\n",
            "batch_normalization_16 (Batc (None, 992, 64)           256       \n",
            "_________________________________________________________________\n",
            "max_pooling1d_16 (MaxPooling (None, 198, 64)           0         \n",
            "_________________________________________________________________\n",
            "dropout_22 (Dropout)         (None, 198, 64)           0         \n",
            "_________________________________________________________________\n",
            "conv1d_40 (Conv1D)           (None, 194, 128)          41088     \n",
            "_________________________________________________________________\n",
            "conv1d_41 (Conv1D)           (None, 190, 128)          82048     \n",
            "_________________________________________________________________\n",
            "batch_normalization_17 (Batc (None, 190, 128)          512       \n",
            "_________________________________________________________________\n",
            "max_pooling1d_17 (MaxPooling (None, 38, 128)           0         \n",
            "_________________________________________________________________\n",
            "dropout_23 (Dropout)         (None, 38, 128)           0         \n",
            "_________________________________________________________________\n",
            "conv1d_42 (Conv1D)           (None, 34, 256)           164096    \n",
            "_________________________________________________________________\n",
            "conv1d_43 (Conv1D)           (None, 30, 256)           327936    \n",
            "_________________________________________________________________\n",
            "conv1d_44 (Conv1D)           (None, 26, 256)           327936    \n",
            "_________________________________________________________________\n",
            "batch_normalization_18 (Batc (None, 26, 256)           1024      \n",
            "_________________________________________________________________\n",
            "max_pooling1d_18 (MaxPooling (None, 5, 256)            0         \n",
            "_________________________________________________________________\n",
            "dropout_24 (Dropout)         (None, 5, 256)            0         \n",
            "_________________________________________________________________\n",
            "flatten_5 (Flatten)          (None, 1280)              0         \n",
            "_________________________________________________________________\n",
            "dropout_25 (Dropout)         (None, 1280)              0         \n",
            "_________________________________________________________________\n",
            "dense_9 (Dense)              (None, 128)               163968    \n",
            "_________________________________________________________________\n",
            "dropout_26 (Dropout)         (None, 128)               0         \n",
            "_________________________________________________________________\n",
            "dense_10 (Dense)             (None, 128)               16512     \n",
            "_________________________________________________________________\n",
            "dense_11 (Dense)             (None, 39)                5031      \n",
            "=================================================================\n",
            "Total params: 1,775,915\n",
            "Trainable params: 1,775,019\n",
            "Non-trainable params: 896\n",
            "_________________________________________________________________\n",
            "['loss', 'acc', 'f1_m', 'precision_m', 'recall_m']\n"
          ],
          "name": "stdout"
        }
      ]
    },
    {
      "cell_type": "code",
      "metadata": {
        "id": "w1mW-h9OrauJ",
        "colab_type": "code",
        "outputId": "83a47fb9-db9b-4a47-95d5-fb9193725f76",
        "colab": {
          "base_uri": "https://localhost:8080/",
          "height": 171
        }
      },
      "source": [
        "history=model.fit(x_train, y_train, validation_data=(x_val, y_val),epochs=10, batch_size=2,callbacks=[cp])"
      ],
      "execution_count": 0,
      "outputs": [
        {
          "output_type": "stream",
          "text": [
            "WARNING (theano.tensor.blas): We did not find a dynamic library in the library_dir of the library we use for blas. If you use ATLAS, make sure to compile it with dynamics library.\n"
          ],
          "name": "stderr"
        },
        {
          "output_type": "stream",
          "text": [
            "Train on 2494 samples, validate on 624 samples\n",
            "Epoch 1/10\n",
            "2494/2494 [==============================] - 196s 78ms/step - loss: 3.0425 - acc: 0.2538 - f1_m: 0.0184 - precision_m: 0.0265 - recall_m: 0.0144 - val_loss: 10.9434 - val_acc: 0.2564 - val_f1_m: 0.2564 - val_precision_m: 0.2564 - val_recall_m: 0.2564\n",
            "\n",
            "Epoch 00001: val_acc improved from -inf to 0.25641, saving model to model_cnn.hdf5\n",
            "Epoch 2/10\n",
            " 680/2494 [=======>......................] - ETA: 2:44 - loss: 2.9986 - acc: 0.2603 - f1_m: 0.0216 - precision_m: 0.0324 - recall_m: 0.0162"
          ],
          "name": "stdout"
        }
      ]
    },
    {
      "cell_type": "code",
      "metadata": {
        "id": "hcgwhn-KhRj2",
        "colab_type": "code",
        "outputId": "a3e5d1f6-454a-4f24-e627-bc881bf16a5b",
        "colab": {
          "base_uri": "https://localhost:8080/",
          "height": 229
        }
      },
      "source": [
        "model.load_weights('/content/model_cnn.hdf5')\n",
        "loss, acc, f1_m, precision_m, recall_m= model.evaluate(x_test,y_test, verbose=0)\n",
        "print(model.metrics_names)\n",
        "print(\"Loss: \", loss)\n",
        "print(\"Accuracy: \", acc)\n",
        "print(\"F1 score: \", f1_m)\n",
        "print(\"Precision: \", precision_m)\n",
        "print(\"Recall: \", recall_m)"
      ],
      "execution_count": 36,
      "outputs": [
        {
          "output_type": "error",
          "ename": "NameError",
          "evalue": "ignored",
          "traceback": [
            "\u001b[0;31m---------------------------------------------------------------------------\u001b[0m",
            "\u001b[0;31mNameError\u001b[0m                                 Traceback (most recent call last)",
            "\u001b[0;32m<ipython-input-36-64120ccb2fae>\u001b[0m in \u001b[0;36m<module>\u001b[0;34m()\u001b[0m\n\u001b[0;32m----> 1\u001b[0;31m \u001b[0mmodel\u001b[0m\u001b[0;34m.\u001b[0m\u001b[0mload_weights\u001b[0m\u001b[0;34m(\u001b[0m\u001b[0;34m'/content/model_cnn.hdf5'\u001b[0m\u001b[0;34m)\u001b[0m\u001b[0;34m\u001b[0m\u001b[0;34m\u001b[0m\u001b[0m\n\u001b[0m\u001b[1;32m      2\u001b[0m \u001b[0mloss\u001b[0m\u001b[0;34m,\u001b[0m \u001b[0macc\u001b[0m\u001b[0;34m,\u001b[0m \u001b[0mf1_m\u001b[0m\u001b[0;34m,\u001b[0m \u001b[0mprecision_m\u001b[0m\u001b[0;34m,\u001b[0m \u001b[0mrecall_m\u001b[0m\u001b[0;34m=\u001b[0m \u001b[0mmodel\u001b[0m\u001b[0;34m.\u001b[0m\u001b[0mevaluate\u001b[0m\u001b[0;34m(\u001b[0m\u001b[0mx_test\u001b[0m\u001b[0;34m,\u001b[0m\u001b[0my_test\u001b[0m\u001b[0;34m,\u001b[0m \u001b[0mverbose\u001b[0m\u001b[0;34m=\u001b[0m\u001b[0;36m0\u001b[0m\u001b[0;34m)\u001b[0m\u001b[0;34m\u001b[0m\u001b[0;34m\u001b[0m\u001b[0m\n\u001b[1;32m      3\u001b[0m \u001b[0mprint\u001b[0m\u001b[0;34m(\u001b[0m\u001b[0mmodel\u001b[0m\u001b[0;34m.\u001b[0m\u001b[0mmetrics_names\u001b[0m\u001b[0;34m)\u001b[0m\u001b[0;34m\u001b[0m\u001b[0;34m\u001b[0m\u001b[0m\n\u001b[1;32m      4\u001b[0m \u001b[0mprint\u001b[0m\u001b[0;34m(\u001b[0m\u001b[0;34m\"Loss: \"\u001b[0m\u001b[0;34m,\u001b[0m \u001b[0mloss\u001b[0m\u001b[0;34m)\u001b[0m\u001b[0;34m\u001b[0m\u001b[0;34m\u001b[0m\u001b[0m\n\u001b[1;32m      5\u001b[0m \u001b[0mprint\u001b[0m\u001b[0;34m(\u001b[0m\u001b[0;34m\"Accuracy: \"\u001b[0m\u001b[0;34m,\u001b[0m \u001b[0macc\u001b[0m\u001b[0;34m)\u001b[0m\u001b[0;34m\u001b[0m\u001b[0;34m\u001b[0m\u001b[0m\n",
            "\u001b[0;31mNameError\u001b[0m: name 'model' is not defined"
          ]
        }
      ]
    },
    {
      "cell_type": "code",
      "metadata": {
        "id": "3VAjtmE0lvUQ",
        "colab_type": "code",
        "colab": {}
      },
      "source": [
        "print(tr_pr.shape)\n"
      ],
      "execution_count": 0,
      "outputs": []
    },
    {
      "cell_type": "code",
      "metadata": {
        "id": "sdX7VFPVk0p1",
        "colab_type": "code",
        "outputId": "8695d88b-c29f-4e37-f427-d49c1f864f42",
        "colab": {
          "base_uri": "https://localhost:8080/",
          "height": 228
        }
      },
      "source": [
        "fig3 = plt.figure()\n",
        "plt.plot(history.tr_pr['loss'],'r')\n",
        "plt.plot(history.tr_pr['val_loss'],'b')\n",
        "plt.legend(['Training loss', 'Validation Loss'])\n",
        "plt.xlabel('Epochs ')\n",
        "plt.ylabel('Loss')\n",
        "plt.title('Loss Curves :CNN')\n",
        "fig3.savefig('loss_cnn.png')\n",
        "plt.show(fig3)"
      ],
      "execution_count": 0,
      "outputs": [
        {
          "output_type": "error",
          "ename": "AttributeError",
          "evalue": "ignored",
          "traceback": [
            "\u001b[0;31m---------------------------------------------------------------------------\u001b[0m",
            "\u001b[0;31mAttributeError\u001b[0m                            Traceback (most recent call last)",
            "\u001b[0;32m<ipython-input-42-f7bf1ba65a21>\u001b[0m in \u001b[0;36m<module>\u001b[0;34m()\u001b[0m\n\u001b[1;32m      1\u001b[0m \u001b[0mfig3\u001b[0m \u001b[0;34m=\u001b[0m \u001b[0mplt\u001b[0m\u001b[0;34m.\u001b[0m\u001b[0mfigure\u001b[0m\u001b[0;34m(\u001b[0m\u001b[0;34m)\u001b[0m\u001b[0;34m\u001b[0m\u001b[0;34m\u001b[0m\u001b[0m\n\u001b[0;32m----> 2\u001b[0;31m \u001b[0mplt\u001b[0m\u001b[0;34m.\u001b[0m\u001b[0mplot\u001b[0m\u001b[0;34m(\u001b[0m\u001b[0mhistory\u001b[0m\u001b[0;34m.\u001b[0m\u001b[0mtr_pr\u001b[0m\u001b[0;34m[\u001b[0m\u001b[0;34m'loss'\u001b[0m\u001b[0;34m]\u001b[0m\u001b[0;34m,\u001b[0m\u001b[0;34m'r'\u001b[0m\u001b[0;34m)\u001b[0m\u001b[0;34m\u001b[0m\u001b[0;34m\u001b[0m\u001b[0m\n\u001b[0m\u001b[1;32m      3\u001b[0m \u001b[0mplt\u001b[0m\u001b[0;34m.\u001b[0m\u001b[0mplot\u001b[0m\u001b[0;34m(\u001b[0m\u001b[0mhistory\u001b[0m\u001b[0;34m.\u001b[0m\u001b[0mtr_pr\u001b[0m\u001b[0;34m[\u001b[0m\u001b[0;34m'val_loss'\u001b[0m\u001b[0;34m]\u001b[0m\u001b[0;34m,\u001b[0m\u001b[0;34m'b'\u001b[0m\u001b[0;34m)\u001b[0m\u001b[0;34m\u001b[0m\u001b[0;34m\u001b[0m\u001b[0m\n\u001b[1;32m      4\u001b[0m \u001b[0mplt\u001b[0m\u001b[0;34m.\u001b[0m\u001b[0mlegend\u001b[0m\u001b[0;34m(\u001b[0m\u001b[0;34m[\u001b[0m\u001b[0;34m'Training loss'\u001b[0m\u001b[0;34m,\u001b[0m \u001b[0;34m'Validation Loss'\u001b[0m\u001b[0;34m]\u001b[0m\u001b[0;34m)\u001b[0m\u001b[0;34m\u001b[0m\u001b[0;34m\u001b[0m\u001b[0m\n\u001b[1;32m      5\u001b[0m \u001b[0mplt\u001b[0m\u001b[0;34m.\u001b[0m\u001b[0mxlabel\u001b[0m\u001b[0;34m(\u001b[0m\u001b[0;34m'Epochs '\u001b[0m\u001b[0;34m)\u001b[0m\u001b[0;34m\u001b[0m\u001b[0;34m\u001b[0m\u001b[0m\n",
            "\u001b[0;31mAttributeError\u001b[0m: 'History' object has no attribute 'tr_pr'"
          ]
        }
      ]
    },
    {
      "cell_type": "code",
      "metadata": {
        "id": "MOM6aNJm3p6V",
        "colab_type": "code",
        "outputId": "cc992fb5-705f-4e27-c178-c8ae1b96892d",
        "colab": {
          "base_uri": "https://localhost:8080/",
          "height": 70
        }
      },
      "source": [
        "fig1 = plt.figure()\n",
        "plt.plot(history.history['loss'],'r')\n",
        "plt.plot(history.history['val_loss'],'b')\n",
        "plt.legend(['Training loss', 'Validation Loss'])\n",
        "plt.xlabel('Epochs ')\n",
        "plt.ylabel('Loss')\n",
        "plt.title('Loss Curves :CNN')\n",
        "fig1.savefig('loss_cnn.png')\n",
        "plt.show(fig1)"
      ],
      "execution_count": 0,
      "outputs": [
        {
          "output_type": "stream",
          "text": [
            "/usr/local/lib/python3.6/dist-packages/ipykernel_launcher.py:9: MatplotlibDeprecationWarning: Passing the block parameter of show() positionally is deprecated since Matplotlib 3.1; the parameter will become keyword-only in 3.3.\n",
            "  if __name__ == '__main__':\n"
          ],
          "name": "stderr"
        }
      ]
    },
    {
      "cell_type": "code",
      "metadata": {
        "id": "YuwTyGn8DZfZ",
        "colab_type": "code",
        "colab": {}
      },
      "source": [
        "fig2=plt.figure()\n",
        "plt.plot(history.history['acc'],'r')\n",
        "plt.plot(history.history['val_acc'],'b')\n",
        "plt.legend(['Training Accuracy', 'Validation Accuracy'])\n",
        "plt.xlabel('Epochs ')\n",
        "plt.ylabel('Accuracy')\n",
        "plt.title('Accuracy Curves : CNN')\n",
        "fig2.savefig('accuracy_cnn.png')\n",
        "plt.show()"
      ],
      "execution_count": 0,
      "outputs": []
    }
  ]
}